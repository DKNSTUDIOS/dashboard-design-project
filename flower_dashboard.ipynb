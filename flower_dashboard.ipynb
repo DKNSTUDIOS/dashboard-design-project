{
 "cells": [
  {
   "attachments": {},
   "cell_type": "markdown",
   "id": "378d4c8c",
   "metadata": {},
   "source": [
    "### Daten importieren"
   ]
  },
  {
   "cell_type": "code",
   "execution_count": 3,
   "id": "595e3437",
   "metadata": {},
   "outputs": [],
   "source": [
    "import pandas as pd\n",
    "import plotly.express as px\n",
    "import numpy as np"
   ]
  },
  {
   "attachments": {},
   "cell_type": "markdown",
   "id": "d0126454",
   "metadata": {},
   "source": [
    "### Daten auslesen"
   ]
  },
  {
   "cell_type": "code",
   "execution_count": 21,
   "id": "19cf348f",
   "metadata": {},
   "outputs": [
    {
     "data": {
      "text/html": [
       "<div>\n",
       "<style scoped>\n",
       "    .dataframe tbody tr th:only-of-type {\n",
       "        vertical-align: middle;\n",
       "    }\n",
       "\n",
       "    .dataframe tbody tr th {\n",
       "        vertical-align: top;\n",
       "    }\n",
       "\n",
       "    .dataframe thead th {\n",
       "        text-align: right;\n",
       "    }\n",
       "</style>\n",
       "<table border=\"1\" class=\"dataframe\">\n",
       "  <thead>\n",
       "    <tr style=\"text-align: right;\">\n",
       "      <th></th>\n",
       "      <th>Name</th>\n",
       "      <th>Höhe</th>\n",
       "      <th>Lebenserwartung</th>\n",
       "      <th>Herkunftskontinent</th>\n",
       "      <th>Farbe</th>\n",
       "      <th>Klima</th>\n",
       "      <th>Geschnittene Blume</th>\n",
       "      <th>perfumes</th>\n",
       "      <th>Medizin</th>\n",
       "      <th>Durchschnittliche Anzhal Blätter</th>\n",
       "    </tr>\n",
       "  </thead>\n",
       "  <tbody>\n",
       "    <tr>\n",
       "      <th>0</th>\n",
       "      <td>Rose</td>\n",
       "      <td>60-150</td>\n",
       "      <td>1-2</td>\n",
       "      <td>Europe, Asia</td>\n",
       "      <td>Red, pink, white</td>\n",
       "      <td>Temperate</td>\n",
       "      <td>1</td>\n",
       "      <td>1</td>\n",
       "      <td>1</td>\n",
       "      <td>5-9</td>\n",
       "    </tr>\n",
       "    <tr>\n",
       "      <th>1</th>\n",
       "      <td>Tulip</td>\n",
       "      <td>20-70</td>\n",
       "      <td>2-3</td>\n",
       "      <td>Central Asia</td>\n",
       "      <td>Red, pink, white</td>\n",
       "      <td>Temperate</td>\n",
       "      <td>1</td>\n",
       "      <td>0</td>\n",
       "      <td>1</td>\n",
       "      <td>3-7</td>\n",
       "    </tr>\n",
       "    <tr>\n",
       "      <th>2</th>\n",
       "      <td>Daisy</td>\n",
       "      <td>15-60</td>\n",
       "      <td>1-2</td>\n",
       "      <td>Europe, Asia</td>\n",
       "      <td>White, yellow</td>\n",
       "      <td>Temperate</td>\n",
       "      <td>1</td>\n",
       "      <td>0</td>\n",
       "      <td>1</td>\n",
       "      <td>10-20</td>\n",
       "    </tr>\n",
       "    <tr>\n",
       "      <th>3</th>\n",
       "      <td>Sunflower</td>\n",
       "      <td>50-300</td>\n",
       "      <td>1-2</td>\n",
       "      <td>North and South America</td>\n",
       "      <td>Yellow, orange</td>\n",
       "      <td>Temperate to tropical</td>\n",
       "      <td>1</td>\n",
       "      <td>0</td>\n",
       "      <td>1</td>\n",
       "      <td>10-20</td>\n",
       "    </tr>\n",
       "    <tr>\n",
       "      <th>4</th>\n",
       "      <td>Orchid</td>\n",
       "      <td>20-100</td>\n",
       "      <td>5-10</td>\n",
       "      <td>Worldwide</td>\n",
       "      <td>Purple, pink, white</td>\n",
       "      <td>Tropical</td>\n",
       "      <td>1</td>\n",
       "      <td>1</td>\n",
       "      <td>1</td>\n",
       "      <td>3-50</td>\n",
       "    </tr>\n",
       "    <tr>\n",
       "      <th>...</th>\n",
       "      <td>...</td>\n",
       "      <td>...</td>\n",
       "      <td>...</td>\n",
       "      <td>...</td>\n",
       "      <td>...</td>\n",
       "      <td>...</td>\n",
       "      <td>...</td>\n",
       "      <td>...</td>\n",
       "      <td>...</td>\n",
       "      <td>...</td>\n",
       "    </tr>\n",
       "    <tr>\n",
       "      <th>67</th>\n",
       "      <td>Hyacinth</td>\n",
       "      <td>10-20</td>\n",
       "      <td>1-2</td>\n",
       "      <td>Europe, Asia</td>\n",
       "      <td>Purple, pink, white</td>\n",
       "      <td>Temperate</td>\n",
       "      <td>1</td>\n",
       "      <td>0</td>\n",
       "      <td>1</td>\n",
       "      <td>5-10</td>\n",
       "    </tr>\n",
       "    <tr>\n",
       "      <th>68</th>\n",
       "      <td>Iris reticulata</td>\n",
       "      <td>10-20</td>\n",
       "      <td>1-2</td>\n",
       "      <td>Europe, Asia</td>\n",
       "      <td>Purple, pink, white</td>\n",
       "      <td>Temperate</td>\n",
       "      <td>1</td>\n",
       "      <td>0</td>\n",
       "      <td>1</td>\n",
       "      <td>5-10</td>\n",
       "    </tr>\n",
       "    <tr>\n",
       "      <th>69</th>\n",
       "      <td>Chionodoxa</td>\n",
       "      <td>10-20</td>\n",
       "      <td>1-2</td>\n",
       "      <td>Europe, Asia</td>\n",
       "      <td>Purple, pink, white</td>\n",
       "      <td>Temperate</td>\n",
       "      <td>1</td>\n",
       "      <td>0</td>\n",
       "      <td>1</td>\n",
       "      <td>5-10</td>\n",
       "    </tr>\n",
       "    <tr>\n",
       "      <th>70</th>\n",
       "      <td>Anemone</td>\n",
       "      <td>10-20</td>\n",
       "      <td>1-2</td>\n",
       "      <td>Europe, Asia</td>\n",
       "      <td>Purple, pink, white</td>\n",
       "      <td>Temperate</td>\n",
       "      <td>1</td>\n",
       "      <td>0</td>\n",
       "      <td>1</td>\n",
       "      <td>5-10</td>\n",
       "    </tr>\n",
       "    <tr>\n",
       "      <th>71</th>\n",
       "      <td>Scilla</td>\n",
       "      <td>10-20</td>\n",
       "      <td>1-2</td>\n",
       "      <td>Europe, Asia</td>\n",
       "      <td>Purple, pink, white</td>\n",
       "      <td>Temperate</td>\n",
       "      <td>1</td>\n",
       "      <td>0</td>\n",
       "      <td>1</td>\n",
       "      <td>5-10</td>\n",
       "    </tr>\n",
       "  </tbody>\n",
       "</table>\n",
       "<p>72 rows × 10 columns</p>\n",
       "</div>"
      ],
      "text/plain": [
       "               Name    Höhe Lebenserwartung       Herkunftskontinent  \\\n",
       "0              Rose  60-150             1-2             Europe, Asia   \n",
       "1             Tulip   20-70             2-3             Central Asia   \n",
       "2             Daisy   15-60             1-2             Europe, Asia   \n",
       "3         Sunflower  50-300             1-2  North and South America   \n",
       "4            Orchid  20-100            5-10                Worldwide   \n",
       "..              ...     ...             ...                      ...   \n",
       "67         Hyacinth   10-20             1-2             Europe, Asia   \n",
       "68  Iris reticulata   10-20             1-2             Europe, Asia   \n",
       "69       Chionodoxa   10-20             1-2             Europe, Asia   \n",
       "70          Anemone   10-20             1-2             Europe, Asia   \n",
       "71           Scilla   10-20             1-2             Europe, Asia   \n",
       "\n",
       "                  Farbe                  Klima  Geschnittene Blume  perfumes  \\\n",
       "0      Red, pink, white              Temperate                   1         1   \n",
       "1      Red, pink, white              Temperate                   1         0   \n",
       "2         White, yellow              Temperate                   1         0   \n",
       "3        Yellow, orange  Temperate to tropical                   1         0   \n",
       "4   Purple, pink, white               Tropical                   1         1   \n",
       "..                  ...                    ...                 ...       ...   \n",
       "67  Purple, pink, white              Temperate                   1         0   \n",
       "68  Purple, pink, white              Temperate                   1         0   \n",
       "69  Purple, pink, white              Temperate                   1         0   \n",
       "70  Purple, pink, white              Temperate                   1         0   \n",
       "71  Purple, pink, white              Temperate                   1         0   \n",
       "\n",
       "    Medizin Durchschnittliche Anzhal Blätter  \n",
       "0         1                              5-9  \n",
       "1         1                              3-7  \n",
       "2         1                            10-20  \n",
       "3         1                            10-20  \n",
       "4         1                             3-50  \n",
       "..      ...                              ...  \n",
       "67        1                             5-10  \n",
       "68        1                             5-10  \n",
       "69        1                             5-10  \n",
       "70        1                             5-10  \n",
       "71        1                             5-10  \n",
       "\n",
       "[72 rows x 10 columns]"
      ]
     },
     "metadata": {},
     "output_type": "display_data"
    }
   ],
   "source": [
    "df = pd.read_csv('flower_data.csv')\n",
    "\n",
    "dict = {'name': 'Name',\n",
    "        'height (cm)': 'Höhe',\n",
    "        'longevity (years)': 'Lebenserwartung',\n",
    "        'place of origin': 'Herkunftskontinent',\n",
    "        'color': 'Farbe',\n",
    "        'climate': 'Klima',\n",
    "        'cut flowers': 'Geschnittene Blume',\n",
    "        'parfumes': \"Parfum\",\n",
    "        'medicine': 'Medizin',\n",
    "        'average number of petals': 'Durchschnittliche Anzhal Blätter'}\n",
    "\n",
    "df.rename(columns=dict, inplace=True)\n",
    "\n",
    "display(df)"
   ]
  },
  {
   "attachments": {},
   "cell_type": "markdown",
   "id": "096d718e",
   "metadata": {},
   "source": [
    "### Daten filtern"
   ]
  },
  {
   "cell_type": "code",
   "execution_count": 23,
   "id": "4aadb4cd",
   "metadata": {},
   "outputs": [
    {
     "data": {
      "text/html": [
       "<div>\n",
       "<style scoped>\n",
       "    .dataframe tbody tr th:only-of-type {\n",
       "        vertical-align: middle;\n",
       "    }\n",
       "\n",
       "    .dataframe tbody tr th {\n",
       "        vertical-align: top;\n",
       "    }\n",
       "\n",
       "    .dataframe thead th {\n",
       "        text-align: right;\n",
       "    }\n",
       "</style>\n",
       "<table border=\"1\" class=\"dataframe\">\n",
       "  <thead>\n",
       "    <tr style=\"text-align: right;\">\n",
       "      <th></th>\n",
       "      <th>Name</th>\n",
       "      <th>Höhe</th>\n",
       "      <th>Lebenserwartung</th>\n",
       "      <th>Herkunftskontinent</th>\n",
       "      <th>Farbe</th>\n",
       "      <th>Klima</th>\n",
       "      <th>Geschnittene Blume</th>\n",
       "      <th>perfumes</th>\n",
       "      <th>Medizin</th>\n",
       "      <th>Durchschnittliche Anzhal Blätter</th>\n",
       "    </tr>\n",
       "  </thead>\n",
       "  <tbody>\n",
       "    <tr>\n",
       "      <th>0</th>\n",
       "      <td>Rose</td>\n",
       "      <td>60-150</td>\n",
       "      <td>1-2</td>\n",
       "      <td>Europe</td>\n",
       "      <td>Red, pink, white</td>\n",
       "      <td>Temperate</td>\n",
       "      <td>1</td>\n",
       "      <td>1</td>\n",
       "      <td>1</td>\n",
       "      <td>5-9</td>\n",
       "    </tr>\n",
       "    <tr>\n",
       "      <th>0</th>\n",
       "      <td>Rose</td>\n",
       "      <td>60-150</td>\n",
       "      <td>1-2</td>\n",
       "      <td>Asia</td>\n",
       "      <td>Red, pink, white</td>\n",
       "      <td>Temperate</td>\n",
       "      <td>1</td>\n",
       "      <td>1</td>\n",
       "      <td>1</td>\n",
       "      <td>5-9</td>\n",
       "    </tr>\n",
       "    <tr>\n",
       "      <th>2</th>\n",
       "      <td>Daisy</td>\n",
       "      <td>15-60</td>\n",
       "      <td>1-2</td>\n",
       "      <td>Europe</td>\n",
       "      <td>White, yellow</td>\n",
       "      <td>Temperate</td>\n",
       "      <td>1</td>\n",
       "      <td>0</td>\n",
       "      <td>1</td>\n",
       "      <td>10-20</td>\n",
       "    </tr>\n",
       "    <tr>\n",
       "      <th>2</th>\n",
       "      <td>Daisy</td>\n",
       "      <td>15-60</td>\n",
       "      <td>1-2</td>\n",
       "      <td>Asia</td>\n",
       "      <td>White, yellow</td>\n",
       "      <td>Temperate</td>\n",
       "      <td>1</td>\n",
       "      <td>0</td>\n",
       "      <td>1</td>\n",
       "      <td>10-20</td>\n",
       "    </tr>\n",
       "    <tr>\n",
       "      <th>5</th>\n",
       "      <td>Jasmine</td>\n",
       "      <td>60-180</td>\n",
       "      <td>5-10</td>\n",
       "      <td>Asia</td>\n",
       "      <td>White, yellow</td>\n",
       "      <td>Tropical</td>\n",
       "      <td>1</td>\n",
       "      <td>1</td>\n",
       "      <td>1</td>\n",
       "      <td>5-9</td>\n",
       "    </tr>\n",
       "  </tbody>\n",
       "</table>\n",
       "</div>"
      ],
      "text/plain": [
       "      Name    Höhe Lebenserwartung Herkunftskontinent             Farbe  \\\n",
       "0     Rose  60-150             1-2             Europe  Red, pink, white   \n",
       "0     Rose  60-150             1-2               Asia  Red, pink, white   \n",
       "2    Daisy   15-60             1-2             Europe     White, yellow   \n",
       "2    Daisy   15-60             1-2               Asia     White, yellow   \n",
       "5  Jasmine  60-180            5-10               Asia     White, yellow   \n",
       "\n",
       "       Klima  Geschnittene Blume  perfumes  Medizin  \\\n",
       "0  Temperate                   1         1        1   \n",
       "0  Temperate                   1         1        1   \n",
       "2  Temperate                   1         0        1   \n",
       "2  Temperate                   1         0        1   \n",
       "5   Tropical                   1         1        1   \n",
       "\n",
       "  Durchschnittliche Anzhal Blätter  \n",
       "0                              5-9  \n",
       "0                              5-9  \n",
       "2                            10-20  \n",
       "2                            10-20  \n",
       "5                              5-9  "
      ]
     },
     "execution_count": 23,
     "metadata": {},
     "output_type": "execute_result"
    }
   ],
   "source": [
    "# Split the \"Herkunftskontinent\" column\n",
    "df[\"Herkunftskontinent\"] = df[\"Herkunftskontinent\"].str.split(\", \")\n",
    "\n",
    "# Explode the DataFrame\n",
    "df = df.explode(\"Herkunftskontinent\")\n",
    "\n",
    "# Filter the DataFrame for \"Asia\" and \"Europe\"\n",
    "df_filtered = df.loc[df[\"Herkunftskontinent\"].isin([\"Asia\", \"Europe\"])]\n",
    "\n",
    "# Print the resulting DataFrame\n",
    "df_filtered.head()"
   ]
  },
  {
   "attachments": {},
   "cell_type": "markdown",
   "id": "9eb53e91",
   "metadata": {},
   "source": [
    "### Kuchen-Diagramm: Herkunftskontinent"
   ]
  },
  {
   "cell_type": "code",
   "execution_count": 38,
   "id": "eb38047f",
   "metadata": {},
   "outputs": [
    {
     "ename": "TypeError",
     "evalue": "'dict' object is not callable",
     "output_type": "error",
     "traceback": [
      "\u001b[1;31m---------------------------------------------------------------------------\u001b[0m",
      "\u001b[1;31mTypeError\u001b[0m                                 Traceback (most recent call last)",
      "Cell \u001b[1;32mIn[38], line 3\u001b[0m\n\u001b[0;32m      1\u001b[0m font_family \u001b[39m=\u001b[39m \u001b[39m'\u001b[39m\u001b[39mArial\u001b[39m\u001b[39m'\u001b[39m\n\u001b[1;32m----> 3\u001b[0m desired_layout \u001b[39m=\u001b[39m \u001b[39mdict\u001b[39;49m(title\u001b[39m=\u001b[39;49m{\u001b[39m'\u001b[39;49m\u001b[39mfont\u001b[39;49m\u001b[39m'\u001b[39;49m: {\u001b[39m'\u001b[39;49m\u001b[39mfamily\u001b[39;49m\u001b[39m'\u001b[39;49m: font_family, \u001b[39m'\u001b[39;49m\u001b[39msize\u001b[39;49m\u001b[39m'\u001b[39;49m: \u001b[39m24\u001b[39;49m}, \u001b[39m'\u001b[39;49m\u001b[39mx\u001b[39;49m\u001b[39m'\u001b[39;49m: \u001b[39m0.5\u001b[39;49m, \u001b[39m'\u001b[39;49m\u001b[39my\u001b[39;49m\u001b[39m'\u001b[39;49m: \u001b[39m0.9\u001b[39;49m},\n\u001b[0;32m      4\u001b[0m                   font\u001b[39m=\u001b[39;49m{\u001b[39m'\u001b[39;49m\u001b[39mfamily\u001b[39;49m\u001b[39m'\u001b[39;49m: font_family, \u001b[39m'\u001b[39;49m\u001b[39msize\u001b[39;49m\u001b[39m'\u001b[39;49m: \u001b[39m12\u001b[39;49m})\n\u001b[0;32m      6\u001b[0m df[\u001b[39m\"\u001b[39m\u001b[39mHerkunftskontinent\u001b[39m\u001b[39m\"\u001b[39m] \u001b[39m=\u001b[39m df[\u001b[39m\"\u001b[39m\u001b[39mHerkunftskontinent\u001b[39m\u001b[39m\"\u001b[39m]\u001b[39m.\u001b[39mstr\u001b[39m.\u001b[39msplit(\u001b[39m\"\u001b[39m\u001b[39m, \u001b[39m\u001b[39m\"\u001b[39m)\n\u001b[0;32m      7\u001b[0m df \u001b[39m=\u001b[39m df\u001b[39m.\u001b[39mexplode(\u001b[39m\"\u001b[39m\u001b[39mHerkunftskontinent\u001b[39m\u001b[39m\"\u001b[39m)\n",
      "\u001b[1;31mTypeError\u001b[0m: 'dict' object is not callable"
     ]
    }
   ],
   "source": [
    "font_family = 'Arial'\n",
    "\n",
    "df[\"Herkunftskontinent\"] = df[\"Herkunftskontinent\"].str.split(\", \")\n",
    "df = df.explode(\"Herkunftskontinent\")\n",
    "\n",
    "origin_counts = df[\"Herkunftskontinent\"].value_counts()\n",
    "\n",
    "colors = px.colors.qualitative.Pastel\n",
    "\n",
    "fig = px.pie(values=origin_counts, names=origin_counts.index, title=\"Herkunftskontinent\", hole=0.5,\n",
    "             color_discrete_sequence=colors)\n",
    "\n",
    "fig.update_layout(title={'font': {'family': font_family, 'size': 24}, 'x': 0.5, 'y': 0.9},\n",
    "                  font={'family': font_family, 'size': 12})\n",
    "\n",
    "fig.show()"
   ]
  },
  {
   "cell_type": "markdown",
   "id": "c988161c",
   "metadata": {},
   "source": [
    "### Kuchen-Diagramm: Europa vs Asien"
   ]
  },
  {
   "cell_type": "code",
   "execution_count": 35,
   "id": "81b5851b",
   "metadata": {},
   "outputs": [
    {
     "data": {
      "application/vnd.plotly.v1+json": {
       "config": {
        "plotlyServerURL": "https://plot.ly"
       },
       "data": [
        {
         "domain": {
          "x": [
           0,
           1
          ],
          "y": [
           0,
           1
          ]
         },
         "hole": 0.5,
         "hovertemplate": "label=%{label}<br>value=%{value}<extra></extra>",
         "labels": [
          "Asia",
          "Europe"
         ],
         "legendgroup": "",
         "name": "",
         "showlegend": true,
         "type": "pie",
         "values": [
          49,
          41
         ]
        }
       ],
       "layout": {
        "font": {
         "family": "Arial",
         "size": 12
        },
        "legend": {
         "tracegroupgap": 0
        },
        "template": {
         "data": {
          "bar": [
           {
            "error_x": {
             "color": "#2a3f5f"
            },
            "error_y": {
             "color": "#2a3f5f"
            },
            "marker": {
             "line": {
              "color": "#E5ECF6",
              "width": 0.5
             },
             "pattern": {
              "fillmode": "overlay",
              "size": 10,
              "solidity": 0.2
             }
            },
            "type": "bar"
           }
          ],
          "barpolar": [
           {
            "marker": {
             "line": {
              "color": "#E5ECF6",
              "width": 0.5
             },
             "pattern": {
              "fillmode": "overlay",
              "size": 10,
              "solidity": 0.2
             }
            },
            "type": "barpolar"
           }
          ],
          "carpet": [
           {
            "aaxis": {
             "endlinecolor": "#2a3f5f",
             "gridcolor": "white",
             "linecolor": "white",
             "minorgridcolor": "white",
             "startlinecolor": "#2a3f5f"
            },
            "baxis": {
             "endlinecolor": "#2a3f5f",
             "gridcolor": "white",
             "linecolor": "white",
             "minorgridcolor": "white",
             "startlinecolor": "#2a3f5f"
            },
            "type": "carpet"
           }
          ],
          "choropleth": [
           {
            "colorbar": {
             "outlinewidth": 0,
             "ticks": ""
            },
            "type": "choropleth"
           }
          ],
          "contour": [
           {
            "colorbar": {
             "outlinewidth": 0,
             "ticks": ""
            },
            "colorscale": [
             [
              0,
              "#0d0887"
             ],
             [
              0.1111111111111111,
              "#46039f"
             ],
             [
              0.2222222222222222,
              "#7201a8"
             ],
             [
              0.3333333333333333,
              "#9c179e"
             ],
             [
              0.4444444444444444,
              "#bd3786"
             ],
             [
              0.5555555555555556,
              "#d8576b"
             ],
             [
              0.6666666666666666,
              "#ed7953"
             ],
             [
              0.7777777777777778,
              "#fb9f3a"
             ],
             [
              0.8888888888888888,
              "#fdca26"
             ],
             [
              1,
              "#f0f921"
             ]
            ],
            "type": "contour"
           }
          ],
          "contourcarpet": [
           {
            "colorbar": {
             "outlinewidth": 0,
             "ticks": ""
            },
            "type": "contourcarpet"
           }
          ],
          "heatmap": [
           {
            "colorbar": {
             "outlinewidth": 0,
             "ticks": ""
            },
            "colorscale": [
             [
              0,
              "#0d0887"
             ],
             [
              0.1111111111111111,
              "#46039f"
             ],
             [
              0.2222222222222222,
              "#7201a8"
             ],
             [
              0.3333333333333333,
              "#9c179e"
             ],
             [
              0.4444444444444444,
              "#bd3786"
             ],
             [
              0.5555555555555556,
              "#d8576b"
             ],
             [
              0.6666666666666666,
              "#ed7953"
             ],
             [
              0.7777777777777778,
              "#fb9f3a"
             ],
             [
              0.8888888888888888,
              "#fdca26"
             ],
             [
              1,
              "#f0f921"
             ]
            ],
            "type": "heatmap"
           }
          ],
          "heatmapgl": [
           {
            "colorbar": {
             "outlinewidth": 0,
             "ticks": ""
            },
            "colorscale": [
             [
              0,
              "#0d0887"
             ],
             [
              0.1111111111111111,
              "#46039f"
             ],
             [
              0.2222222222222222,
              "#7201a8"
             ],
             [
              0.3333333333333333,
              "#9c179e"
             ],
             [
              0.4444444444444444,
              "#bd3786"
             ],
             [
              0.5555555555555556,
              "#d8576b"
             ],
             [
              0.6666666666666666,
              "#ed7953"
             ],
             [
              0.7777777777777778,
              "#fb9f3a"
             ],
             [
              0.8888888888888888,
              "#fdca26"
             ],
             [
              1,
              "#f0f921"
             ]
            ],
            "type": "heatmapgl"
           }
          ],
          "histogram": [
           {
            "marker": {
             "pattern": {
              "fillmode": "overlay",
              "size": 10,
              "solidity": 0.2
             }
            },
            "type": "histogram"
           }
          ],
          "histogram2d": [
           {
            "colorbar": {
             "outlinewidth": 0,
             "ticks": ""
            },
            "colorscale": [
             [
              0,
              "#0d0887"
             ],
             [
              0.1111111111111111,
              "#46039f"
             ],
             [
              0.2222222222222222,
              "#7201a8"
             ],
             [
              0.3333333333333333,
              "#9c179e"
             ],
             [
              0.4444444444444444,
              "#bd3786"
             ],
             [
              0.5555555555555556,
              "#d8576b"
             ],
             [
              0.6666666666666666,
              "#ed7953"
             ],
             [
              0.7777777777777778,
              "#fb9f3a"
             ],
             [
              0.8888888888888888,
              "#fdca26"
             ],
             [
              1,
              "#f0f921"
             ]
            ],
            "type": "histogram2d"
           }
          ],
          "histogram2dcontour": [
           {
            "colorbar": {
             "outlinewidth": 0,
             "ticks": ""
            },
            "colorscale": [
             [
              0,
              "#0d0887"
             ],
             [
              0.1111111111111111,
              "#46039f"
             ],
             [
              0.2222222222222222,
              "#7201a8"
             ],
             [
              0.3333333333333333,
              "#9c179e"
             ],
             [
              0.4444444444444444,
              "#bd3786"
             ],
             [
              0.5555555555555556,
              "#d8576b"
             ],
             [
              0.6666666666666666,
              "#ed7953"
             ],
             [
              0.7777777777777778,
              "#fb9f3a"
             ],
             [
              0.8888888888888888,
              "#fdca26"
             ],
             [
              1,
              "#f0f921"
             ]
            ],
            "type": "histogram2dcontour"
           }
          ],
          "mesh3d": [
           {
            "colorbar": {
             "outlinewidth": 0,
             "ticks": ""
            },
            "type": "mesh3d"
           }
          ],
          "parcoords": [
           {
            "line": {
             "colorbar": {
              "outlinewidth": 0,
              "ticks": ""
             }
            },
            "type": "parcoords"
           }
          ],
          "pie": [
           {
            "automargin": true,
            "type": "pie"
           }
          ],
          "scatter": [
           {
            "fillpattern": {
             "fillmode": "overlay",
             "size": 10,
             "solidity": 0.2
            },
            "type": "scatter"
           }
          ],
          "scatter3d": [
           {
            "line": {
             "colorbar": {
              "outlinewidth": 0,
              "ticks": ""
             }
            },
            "marker": {
             "colorbar": {
              "outlinewidth": 0,
              "ticks": ""
             }
            },
            "type": "scatter3d"
           }
          ],
          "scattercarpet": [
           {
            "marker": {
             "colorbar": {
              "outlinewidth": 0,
              "ticks": ""
             }
            },
            "type": "scattercarpet"
           }
          ],
          "scattergeo": [
           {
            "marker": {
             "colorbar": {
              "outlinewidth": 0,
              "ticks": ""
             }
            },
            "type": "scattergeo"
           }
          ],
          "scattergl": [
           {
            "marker": {
             "colorbar": {
              "outlinewidth": 0,
              "ticks": ""
             }
            },
            "type": "scattergl"
           }
          ],
          "scattermapbox": [
           {
            "marker": {
             "colorbar": {
              "outlinewidth": 0,
              "ticks": ""
             }
            },
            "type": "scattermapbox"
           }
          ],
          "scatterpolar": [
           {
            "marker": {
             "colorbar": {
              "outlinewidth": 0,
              "ticks": ""
             }
            },
            "type": "scatterpolar"
           }
          ],
          "scatterpolargl": [
           {
            "marker": {
             "colorbar": {
              "outlinewidth": 0,
              "ticks": ""
             }
            },
            "type": "scatterpolargl"
           }
          ],
          "scatterternary": [
           {
            "marker": {
             "colorbar": {
              "outlinewidth": 0,
              "ticks": ""
             }
            },
            "type": "scatterternary"
           }
          ],
          "surface": [
           {
            "colorbar": {
             "outlinewidth": 0,
             "ticks": ""
            },
            "colorscale": [
             [
              0,
              "#0d0887"
             ],
             [
              0.1111111111111111,
              "#46039f"
             ],
             [
              0.2222222222222222,
              "#7201a8"
             ],
             [
              0.3333333333333333,
              "#9c179e"
             ],
             [
              0.4444444444444444,
              "#bd3786"
             ],
             [
              0.5555555555555556,
              "#d8576b"
             ],
             [
              0.6666666666666666,
              "#ed7953"
             ],
             [
              0.7777777777777778,
              "#fb9f3a"
             ],
             [
              0.8888888888888888,
              "#fdca26"
             ],
             [
              1,
              "#f0f921"
             ]
            ],
            "type": "surface"
           }
          ],
          "table": [
           {
            "cells": {
             "fill": {
              "color": "#EBF0F8"
             },
             "line": {
              "color": "white"
             }
            },
            "header": {
             "fill": {
              "color": "#C8D4E3"
             },
             "line": {
              "color": "white"
             }
            },
            "type": "table"
           }
          ]
         },
         "layout": {
          "annotationdefaults": {
           "arrowcolor": "#2a3f5f",
           "arrowhead": 0,
           "arrowwidth": 1
          },
          "autotypenumbers": "strict",
          "coloraxis": {
           "colorbar": {
            "outlinewidth": 0,
            "ticks": ""
           }
          },
          "colorscale": {
           "diverging": [
            [
             0,
             "#8e0152"
            ],
            [
             0.1,
             "#c51b7d"
            ],
            [
             0.2,
             "#de77ae"
            ],
            [
             0.3,
             "#f1b6da"
            ],
            [
             0.4,
             "#fde0ef"
            ],
            [
             0.5,
             "#f7f7f7"
            ],
            [
             0.6,
             "#e6f5d0"
            ],
            [
             0.7,
             "#b8e186"
            ],
            [
             0.8,
             "#7fbc41"
            ],
            [
             0.9,
             "#4d9221"
            ],
            [
             1,
             "#276419"
            ]
           ],
           "sequential": [
            [
             0,
             "#0d0887"
            ],
            [
             0.1111111111111111,
             "#46039f"
            ],
            [
             0.2222222222222222,
             "#7201a8"
            ],
            [
             0.3333333333333333,
             "#9c179e"
            ],
            [
             0.4444444444444444,
             "#bd3786"
            ],
            [
             0.5555555555555556,
             "#d8576b"
            ],
            [
             0.6666666666666666,
             "#ed7953"
            ],
            [
             0.7777777777777778,
             "#fb9f3a"
            ],
            [
             0.8888888888888888,
             "#fdca26"
            ],
            [
             1,
             "#f0f921"
            ]
           ],
           "sequentialminus": [
            [
             0,
             "#0d0887"
            ],
            [
             0.1111111111111111,
             "#46039f"
            ],
            [
             0.2222222222222222,
             "#7201a8"
            ],
            [
             0.3333333333333333,
             "#9c179e"
            ],
            [
             0.4444444444444444,
             "#bd3786"
            ],
            [
             0.5555555555555556,
             "#d8576b"
            ],
            [
             0.6666666666666666,
             "#ed7953"
            ],
            [
             0.7777777777777778,
             "#fb9f3a"
            ],
            [
             0.8888888888888888,
             "#fdca26"
            ],
            [
             1,
             "#f0f921"
            ]
           ]
          },
          "colorway": [
           "#636efa",
           "#EF553B",
           "#00cc96",
           "#ab63fa",
           "#FFA15A",
           "#19d3f3",
           "#FF6692",
           "#B6E880",
           "#FF97FF",
           "#FECB52"
          ],
          "font": {
           "color": "#2a3f5f"
          },
          "geo": {
           "bgcolor": "white",
           "lakecolor": "white",
           "landcolor": "#E5ECF6",
           "showlakes": true,
           "showland": true,
           "subunitcolor": "white"
          },
          "hoverlabel": {
           "align": "left"
          },
          "hovermode": "closest",
          "mapbox": {
           "style": "light"
          },
          "paper_bgcolor": "white",
          "plot_bgcolor": "#E5ECF6",
          "polar": {
           "angularaxis": {
            "gridcolor": "white",
            "linecolor": "white",
            "ticks": ""
           },
           "bgcolor": "#E5ECF6",
           "radialaxis": {
            "gridcolor": "white",
            "linecolor": "white",
            "ticks": ""
           }
          },
          "scene": {
           "xaxis": {
            "backgroundcolor": "#E5ECF6",
            "gridcolor": "white",
            "gridwidth": 2,
            "linecolor": "white",
            "showbackground": true,
            "ticks": "",
            "zerolinecolor": "white"
           },
           "yaxis": {
            "backgroundcolor": "#E5ECF6",
            "gridcolor": "white",
            "gridwidth": 2,
            "linecolor": "white",
            "showbackground": true,
            "ticks": "",
            "zerolinecolor": "white"
           },
           "zaxis": {
            "backgroundcolor": "#E5ECF6",
            "gridcolor": "white",
            "gridwidth": 2,
            "linecolor": "white",
            "showbackground": true,
            "ticks": "",
            "zerolinecolor": "white"
           }
          },
          "shapedefaults": {
           "line": {
            "color": "#2a3f5f"
           }
          },
          "ternary": {
           "aaxis": {
            "gridcolor": "white",
            "linecolor": "white",
            "ticks": ""
           },
           "baxis": {
            "gridcolor": "white",
            "linecolor": "white",
            "ticks": ""
           },
           "bgcolor": "#E5ECF6",
           "caxis": {
            "gridcolor": "white",
            "linecolor": "white",
            "ticks": ""
           }
          },
          "title": {
           "x": 0.05
          },
          "xaxis": {
           "automargin": true,
           "gridcolor": "white",
           "linecolor": "white",
           "ticks": "",
           "title": {
            "standoff": 15
           },
           "zerolinecolor": "white",
           "zerolinewidth": 2
          },
          "yaxis": {
           "automargin": true,
           "gridcolor": "white",
           "linecolor": "white",
           "ticks": "",
           "title": {
            "standoff": 15
           },
           "zerolinecolor": "white",
           "zerolinewidth": 2
          }
         }
        },
        "title": {
         "font": {
          "family": "Arial",
          "size": 24
         },
         "text": "Asia vs Europe",
         "x": 0.5,
         "y": 0.9
        }
       }
      }
     },
     "metadata": {},
     "output_type": "display_data"
    }
   ],
   "source": [
    "font_family = 'Arial'\n",
    "\n",
    "asia_europe = df_filtered[\"Herkunftskontinent\"].value_counts()\n",
    "\n",
    "colors = px.colors.qualitative.Pastel\n",
    "\n",
    "fig = px.pie(values=asia_europe, names=asia_europe.index, title=\"Asia vs Europe\", hole=0.5)\n",
    "\n",
    "fig.update_layout(title={'font': {'family': font_family, 'size': 24}, 'x': 0.5, 'y': 0.9},\n",
    "                  font={'family': font_family, 'size': 12})\n",
    "\n",
    "fig.show()"
   ]
  }
 ],
 "metadata": {
  "kernelspec": {
   "display_name": "Python 3 (ipykernel)",
   "language": "python",
   "name": "python3"
  },
  "language_info": {
   "codemirror_mode": {
    "name": "ipython",
    "version": 3
   },
   "file_extension": ".py",
   "mimetype": "text/x-python",
   "name": "python",
   "nbconvert_exporter": "python",
   "pygments_lexer": "ipython3",
   "version": "3.10.9"
  }
 },
 "nbformat": 4,
 "nbformat_minor": 5
}
